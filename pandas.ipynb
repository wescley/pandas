{
 "cells": [
  {
   "cell_type": "code",
   "execution_count": 32,
   "metadata": {},
   "outputs": [
    {
     "name": "stdout",
     "output_type": "stream",
     "text": [
      "Total de vendas no arquivo relatorios_vendas1.csv: R$ 122500.00\n",
      "Produto mais vendido em relatorios_vendas1.csv: camisa\n",
      "Total de vendas no arquivo relatorios_vendas2.csv: R$ 122500.00\n",
      "Produto mais vendido em relatorios_vendas2.csv: camisa\n",
      "Total de vendas no arquivo relatorios_vendas3.csv: R$ 122500.00\n",
      "Produto mais vendido em relatorios_vendas3.csv: camisa\n",
      "Total de vendas no arquivo relatorios_vendas4.csv: R$ 122500.00\n",
      "Produto mais vendido em relatorios_vendas4.csv: camisa\n",
      "\n",
      "Relatório Mensal Consolidado:\n",
      "          Total  quantidade\n",
      "data                       \n",
      "2025-08    6400          40\n",
      "2025-09    3600          12\n",
      "2025-10  480000           4\n"
     ]
    }
   ],
   "source": [
    "import pandas as pd\n",
    "import os\n",
    "\n",
    "# Caminho da pasta contendo os arquivos CSV\n",
    "pasta_arquivos = 'relatorios_vendas'\n",
    "\n",
    "# Lista para consolidar os dados mensais\n",
    "dados_mensais = []\n",
    "\n",
    "# Iteração pelos arquivos na pasta\n",
    "for arquivo in os.listdir(pasta_arquivos):\n",
    "    if arquivo.endswith('.csv'):\n",
    "        # Lê o arquivo\n",
    "        caminho = os.path.join(pasta_arquivos, arquivo)\n",
    "        df = pd.read_csv(caminho, delimiter=';')\n",
    "\n",
    "        # Total de vendas do dia\n",
    "        df['Total'] = df['quantidade'] * df['valor']\n",
    "        total_vendas = df['Total'].sum()\n",
    "        print(f\"Total de vendas no arquivo {arquivo}: R$ {total_vendas:.2f}\")\n",
    "\n",
    "        # Produto mais vendido\n",
    "        produto_mais_vendido = df.groupby('produto')['quantidade'].sum().idxmax()\n",
    "        print(f\"Produto mais vendido em {arquivo}: {produto_mais_vendido}\")\n",
    "\n",
    "        # Adiciona ao consolidado mensal\n",
    "        df['data'] = pd.to_datetime(df['data'])\n",
    "        dados_mensais.append(df)\n",
    "\n",
    "# Consolida os dados em um único DataFrame\n",
    "consolidado = pd.concat(dados_mensais)\n",
    "\n",
    "# Relatório mensal consolidado\n",
    "relatorio_mensal = consolidado.groupby(consolidado['data'].dt.to_period('M')).agg({\n",
    "    'Total': 'sum',\n",
    "    'quantidade': 'sum'\n",
    "})\n",
    "\n",
    "print(\"\\nRelatório Mensal Consolidado:\")\n",
    "print(relatorio_mensal)\n",
    "\n",
    "# Exporta o relatório consolidado para um arquivo CSV\n",
    "relatorio_mensal.to_csv('relatorio_mensal.csv') "
   ]
  },
  {
   "cell_type": "code",
   "execution_count": null,
   "metadata": {},
   "outputs": [],
   "source": []
  },
  {
   "cell_type": "code",
   "execution_count": null,
   "metadata": {},
   "outputs": [],
   "source": []
  }
 ],
 "metadata": {
  "kernelspec": {
   "display_name": "Python 3",
   "language": "python",
   "name": "python3"
  },
  "language_info": {
   "codemirror_mode": {
    "name": "ipython",
    "version": 3
   },
   "file_extension": ".py",
   "mimetype": "text/x-python",
   "name": "python",
   "nbconvert_exporter": "python",
   "pygments_lexer": "ipython3",
   "version": "3.12.2"
  }
 },
 "nbformat": 4,
 "nbformat_minor": 2
}
